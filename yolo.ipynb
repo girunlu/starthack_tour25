{
 "cells": [
  {
   "cell_type": "code",
   "execution_count": null,
   "id": "6850d803",
   "metadata": {},
   "outputs": [
    {
     "name": "stderr",
     "output_type": "stream",
     "text": [
      "YOLOv5  v7.0-430-g459d8bf0 Python-3.12.9 torch-2.7.0+cu128 CUDA:0 (NVIDIA GeForce RTX 4070 Laptop GPU, 8188MiB)\n",
      "\n",
      "Fusing layers... \n",
      "Model summary: 157 layers, 1761871 parameters, 0 gradients, 4.1 GFLOPs\n",
      "Adding AutoShape... \n",
      "d:\\start2025\\yolov5\\models\\common.py:906: FutureWarning: `torch.cuda.amp.autocast(args...)` is deprecated. Please use `torch.amp.autocast('cuda', args...)` instead.\n",
      "  with amp.autocast(autocast):\n",
      "Saved 1 image to \u001b[1mruns\\detect\\exp\u001b[0m\n"
     ]
    },
    {
     "ename": "AttributeError",
     "evalue": "'Detections' object has no attribute 'imgs'",
     "output_type": "error",
     "traceback": [
      "\u001b[31m---------------------------------------------------------------------------\u001b[39m",
      "\u001b[31mAttributeError\u001b[39m                            Traceback (most recent call last)",
      "\u001b[36mCell\u001b[39m\u001b[36m \u001b[39m\u001b[32mIn[3]\u001b[39m\u001b[32m, line 29\u001b[39m\n\u001b[32m     26\u001b[39m \u001b[38;5;28;01mfor\u001b[39;00m *xyxy, conf, \u001b[38;5;28mcls\u001b[39m \u001b[38;5;129;01min\u001b[39;00m det.tolist():\n\u001b[32m     27\u001b[39m     \u001b[38;5;66;03m# Convert to YOLO format: class x_center y_center width height (normalized)\u001b[39;00m\n\u001b[32m     28\u001b[39m     x1, y1, x2, y2 = xyxy\n\u001b[32m---> \u001b[39m\u001b[32m29\u001b[39m     x_center = (x1 + x2) / \u001b[32m2\u001b[39m / \u001b[43mresults\u001b[49m\u001b[43m.\u001b[49m\u001b[43mimgs\u001b[49m[i].shape[\u001b[32m1\u001b[39m]\n\u001b[32m     30\u001b[39m     y_center = (y1 + y2) / \u001b[32m2\u001b[39m / results.imgs[i].shape[\u001b[32m0\u001b[39m]\n\u001b[32m     31\u001b[39m     w = (x2 - x1) / results.imgs[i].shape[\u001b[32m1\u001b[39m]\n",
      "\u001b[31mAttributeError\u001b[39m: 'Detections' object has no attribute 'imgs'"
     ]
    }
   ],
   "source": [
    "import torch\n",
    "from pathlib import Path\n",
    "\n",
    "# 1️⃣ Load your fine-tuned YOLOv5 model\n",
    "model = torch.hub.load('./yolov5', 'custom', \n",
    "                       path='./yolov5/runs/train/my_experiment8/weights/best.pt', \n",
    "                       source='local')  # source='local' ensures it uses your cloned repo\n",
    "\n",
    "# 2️⃣ Set the source (image, folder, or video)\n",
    "source = './img/image.png'\n",
    "\n",
    "# 3️⃣ Run detection\n",
    "results = model(source, size=640,  # same as --img 640\n",
    "                )#conf=0.25)         # same as --conf 0.25\n",
    "\n",
    "# 4️⃣ Save annotated images/videos\n",
    "results.save()  # saves to runs/detect/exp by default\n"
   ]
  },
  {
   "cell_type": "code",
   "execution_count": null,
   "id": "be43550e",
   "metadata": {},
   "outputs": [],
   "source": []
  },
  {
   "cell_type": "code",
   "execution_count": null,
   "id": "5155319c",
   "metadata": {},
   "outputs": [],
   "source": []
  },
  {
   "cell_type": "code",
   "execution_count": null,
   "id": "800dd2f8",
   "metadata": {},
   "outputs": [],
   "source": []
  }
 ],
 "metadata": {
  "kernelspec": {
   "display_name": "main2",
   "language": "python",
   "name": "python3"
  },
  "language_info": {
   "codemirror_mode": {
    "name": "ipython",
    "version": 3
   },
   "file_extension": ".py",
   "mimetype": "text/x-python",
   "name": "python",
   "nbconvert_exporter": "python",
   "pygments_lexer": "ipython3",
   "version": "3.12.9"
  }
 },
 "nbformat": 4,
 "nbformat_minor": 5
}
